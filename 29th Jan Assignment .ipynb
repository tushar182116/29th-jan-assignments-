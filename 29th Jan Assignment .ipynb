{
 "cells": [
  {
   "cell_type": "markdown",
   "id": "e94fe972",
   "metadata": {},
   "source": [
    "#1.who developed python programming language?"
   ]
  },
  {
   "cell_type": "markdown",
   "id": "55081c48",
   "metadata": {},
   "source": [
    "Python programming language was developed by Guido van Rossum in the late 1980s and was first released in 1991.\n",
    "\n",
    "\n",
    "\n"
   ]
  },
  {
   "cell_type": "markdown",
   "id": "e23035b8",
   "metadata": {},
   "source": [
    "#2.which type of programming does python support"
   ]
  },
  {
   "cell_type": "markdown",
   "id": "4383ba50",
   "metadata": {},
   "source": [
    "procedual programming , oops,functional programming , scripting ,web devlopment etc"
   ]
  },
  {
   "cell_type": "markdown",
   "id": "042000a1",
   "metadata": {},
   "source": [
    "#3.is python case sensitive when dealing with identifiers?\n"
   ]
  },
  {
   "cell_type": "markdown",
   "id": "965868f3",
   "metadata": {},
   "source": [
    "yes"
   ]
  },
  {
   "cell_type": "markdown",
   "id": "0587e2a6",
   "metadata": {},
   "source": [
    "#4.what is the correct extension of the python file?"
   ]
  },
  {
   "cell_type": "markdown",
   "id": "d04e093d",
   "metadata": {},
   "source": [
    ".py is the correct extenstion "
   ]
  },
  {
   "cell_type": "markdown",
   "id": "0cfcb2bc",
   "metadata": {},
   "source": [
    "#5.is python code compiled or interpreted?"
   ]
  },
  {
   "cell_type": "markdown",
   "id": "649ceeec",
   "metadata": {},
   "source": [
    "interpreted"
   ]
  },
  {
   "cell_type": "markdown",
   "id": "a3b86b9a",
   "metadata": {},
   "source": [
    "#6.name a few blocks of code used to define in python language?"
   ]
  },
  {
   "cell_type": "markdown",
   "id": "261658d9",
   "metadata": {},
   "source": [
    "a.function defination block (def),,,\n",
    "b.conditional block (if, elif,else),,\n",
    "c.loop block (for loop and while loop),,,"
   ]
  },
  {
   "cell_type": "markdown",
   "id": "7567d6e9",
   "metadata": {},
   "source": [
    "#7.state a character used to give single-line commenets in python?"
   ]
  },
  {
   "cell_type": "markdown",
   "id": "06743e71",
   "metadata": {},
   "source": [
    "hastags # use for single line comment"
   ]
  },
  {
   "cell_type": "markdown",
   "id": "2f1355a4",
   "metadata": {},
   "source": [
    "#8.mention functions which can help us to find the version of python that we are currently working on ?\n"
   ]
  },
  {
   "cell_type": "markdown",
   "id": "092e45ca",
   "metadata": {},
   "source": [
    "(sys.version)"
   ]
  },
  {
   "cell_type": "markdown",
   "id": "6b323400",
   "metadata": {},
   "source": [
    "#9.python supports the creation of anonymous function at runtime , using a consstruct called ________"
   ]
  },
  {
   "cell_type": "markdown",
   "id": "f88b93f0",
   "metadata": {},
   "source": [
    "lambda function"
   ]
  },
  {
   "cell_type": "markdown",
   "id": "296d856e",
   "metadata": {},
   "source": [
    "#10.what does pip stands for python?"
   ]
  },
  {
   "cell_type": "markdown",
   "id": "33988308",
   "metadata": {},
   "source": [
    "pip install packages "
   ]
  },
  {
   "cell_type": "markdown",
   "id": "e37dd741",
   "metadata": {},
   "source": [
    "#11.mention a few built in functions in python?"
   ]
  },
  {
   "cell_type": "markdown",
   "id": "f3fe81a7",
   "metadata": {},
   "source": [
    "print(), input(),type(),range(),len()"
   ]
  },
  {
   "cell_type": "markdown",
   "id": "dc416937",
   "metadata": {},
   "source": [
    "#12.what is the maximum possible length of an identifier in python?"
   ]
  },
  {
   "cell_type": "markdown",
   "id": "e6ea4bad",
   "metadata": {},
   "source": [
    "not define "
   ]
  },
  {
   "cell_type": "markdown",
   "id": "e6625b3f",
   "metadata": {},
   "source": [
    "#13.what are the benefits of using python?"
   ]
  },
  {
   "cell_type": "markdown",
   "id": "406c0035",
   "metadata": {},
   "source": [
    "easy to learn , varsatile ,highlevel language , cross platform "
   ]
  },
  {
   "cell_type": "markdown",
   "id": "793122e9",
   "metadata": {},
   "source": [
    "#/14.how is memory managed in python?"
   ]
  },
  {
   "cell_type": "markdown",
   "id": "ad2025fe",
   "metadata": {},
   "source": [
    "In Python, memory management is handled automatically by the interpreter through a technique called \"reference counting\".\n",
    "\n"
   ]
  },
  {
   "cell_type": "markdown",
   "id": "1e1f3e6b",
   "metadata": {},
   "source": [
    "#15.how to install pyhton on windows and set path variables?"
   ]
  },
  {
   "cell_type": "markdown",
   "id": "557c9289",
   "metadata": {},
   "source": [
    "Download the latest version of Python from the official website: https://www.python.org/downloads/windows/\n",
    "\n",
    "Run the downloaded installer and follow the installation wizard. During the installation process, make sure to select the \"Add Python to PATH\" option, which will automatically set the necessary path variables.\n",
    "\n",
    "Once the installation is complete, you can verify that Python is installed and the path variables are set correctly by opening a command prompt and typing \"python --version\". If Python is installed and the path variables are set correctly, you should see the version of Python that you installed.\n",
    "\n",
    "If the \"python\" command is not recognized, you can manually set the path variables by following these steps:\n",
    "a. Open the Start menu and search for \"Environment Variables\".\n",
    "b. Click on \"Edit the system environment variables\".\n",
    "c. In the \"System Properties\" window, click on the \"Environment Variables\" button.\n",
    "d. In the \"Environment Variables\" window, under \"System variables\", scroll down to \"Path\" and click on \"Edit\".\n",
    "e. Click on \"New\" and add the path to the Python installation directory. For example, \"C:\\Python39\".\n",
    "f. Click \"OK\" to close all windows.\n",
    "\n",
    "After setting the path variables, open a new command prompt and try typing \"python --version\" again to verify that the path variables are set correctly.\n",
    "\n",
    "That's it! You have successfully installed Python on Windows and set the necessary path variables."
   ]
  },
  {
   "cell_type": "markdown",
   "id": "134ca5d2",
   "metadata": {},
   "source": [
    "#16.is indentation required in python?"
   ]
  },
  {
   "cell_type": "markdown",
   "id": "fbb8ee14",
   "metadata": {},
   "source": [
    "yes it is required "
   ]
  },
  {
   "cell_type": "code",
   "execution_count": null,
   "id": "0b3d105c",
   "metadata": {},
   "outputs": [],
   "source": [
    "|"
   ]
  }
 ],
 "metadata": {
  "kernelspec": {
   "display_name": "Python 3 (ipykernel)",
   "language": "python",
   "name": "python3"
  },
  "language_info": {
   "codemirror_mode": {
    "name": "ipython",
    "version": 3
   },
   "file_extension": ".py",
   "mimetype": "text/x-python",
   "name": "python",
   "nbconvert_exporter": "python",
   "pygments_lexer": "ipython3",
   "version": "3.9.13"
  }
 },
 "nbformat": 4,
 "nbformat_minor": 5
}
